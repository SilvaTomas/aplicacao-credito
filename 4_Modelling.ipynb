{
 "cells": [
  {
   "cell_type": "code",
   "execution_count": 1,
   "metadata": {},
   "outputs": [],
   "source": [
    "import pandas as pd\n",
    "import numpy as np\n",
    "\n",
    "from sklearn.linear_model import LogisticRegression\n",
    "\n",
    "from sklearn.metrics import make_scorer, precision_score, accuracy_score\n",
    "\n",
    "from sklearn.model_selection import GridSearchCV\n",
    "\n",
    "from sklearn.utils.class_weight import compute_class_weight\n"
   ]
  },
  {
   "cell_type": "code",
   "execution_count": 2,
   "metadata": {},
   "outputs": [],
   "source": [
    "file_path_1 = '/home/tomas/Documentos/gh-repos/Trabalho-APC-ASN/X_train_M.csv'\n",
    "train_t = pd.read_csv(file_path_1)\n",
    "\n",
    "file_path_2 ='/home/tomas/Documentos/gh-repos/Trabalho-APC-ASN/X_val_M.csv'\n",
    "val_t = pd.read_csv(file_path_2)\n",
    "\n",
    "file_path_3 = '/home/tomas/Documentos/gh-repos/Trabalho-APC-ASN/X_test_M.csv'\n",
    "test_t = pd.read_csv(file_path_3)"
   ]
  },
  {
   "cell_type": "code",
   "execution_count": 3,
   "metadata": {},
   "outputs": [],
   "source": [
    "file_path_4 = '/home/tomas/Documentos/gh-repos/Trabalho-APC-ASN/y_train.csv'\n",
    "y_train = np.ravel(pd.read_csv(file_path_4))\n",
    "\n",
    "file_path_5 = '/home/tomas/Documentos/gh-repos/Trabalho-APC-ASN/y_val.csv'\n",
    "y_val = np.ravel(pd.read_csv(file_path_5))\n",
    "\n",
    "file_path_6 = '/home/tomas/Documentos/gh-repos/Trabalho-APC-ASN/y_test.csv'\n",
    "y_test = np.ravel(pd.read_csv(file_path_6))"
   ]
  },
  {
   "cell_type": "markdown",
   "metadata": {},
   "source": [
    "## Modelling"
   ]
  },
  {
   "cell_type": "code",
   "execution_count": 4,
   "metadata": {},
   "outputs": [
    {
     "data": {
      "text/plain": [
       "{0: 0.6256123163051085, 1: 2.4902506963788302}"
      ]
     },
     "execution_count": 4,
     "metadata": {},
     "output_type": "execute_result"
    }
   ],
   "source": [
    "def class_weight_maker(y, classes):\n",
    "\n",
    "  # Calcula a frequência das classs\n",
    "  class_0_count = np.sum(y == 0)\n",
    "  class_1_count = np.sum(y == 1)\n",
    "\n",
    "  # Calcula o número total observações\n",
    "  total_samples = len(y)\n",
    "\n",
    "  # Calculate class weights using \"balanced\" mode\n",
    "  class_weights = compute_class_weight('balanced', classes=classes, y=y)\n",
    "  class_weight = {0: class_weights[0], 1: class_weights[1]}\n",
    "  return class_weight\n",
    "\n",
    "weight = class_weight_maker(y_train, [0, 1])\n",
    "weight"
   ]
  },
  {
   "cell_type": "code",
   "execution_count": 20,
   "metadata": {},
   "outputs": [
    {
     "name": "stdout",
     "output_type": "stream",
     "text": [
      "{'C': 0.42813323987193935, 'penalty': 'l1', 'solver': 'liblinear'}\n"
     ]
    }
   ],
   "source": [
    "modelo = LogisticRegression(tol=0.0001,\n",
    "                            random_state=59, \n",
    "                            max_iter=10000,\n",
    "                            #class_weight=weight,\n",
    "                            )\n",
    "#\n",
    "#\n",
    "#\n",
    "#\n",
    "param_grid = {'penalty': ['l1', 'l2'],\n",
    "              'C': np.logspace(-1, 1, 20),\n",
    "              'solver': ['liblinear', 'saga'],\n",
    "              }\n",
    "\n",
    "grid_search = GridSearchCV(modelo, param_grid, cv=10, n_jobs=-1, scoring='accuracy')\n",
    "grid_search.fit(train_t, y_train)\n",
    "\n",
    "print(grid_search.best_params_)\n"
   ]
  },
  {
   "cell_type": "code",
   "execution_count": 21,
   "metadata": {},
   "outputs": [
    {
     "name": "stdout",
     "output_type": "stream",
     "text": [
      "Precision: 0.7558139534883721\n",
      "Best hyperparameters: {'C': 0.42813323987193935, 'penalty': 'l1', 'solver': 'liblinear'}\n",
      "Classification Report:\n",
      "               precision    recall  f1-score   support\n",
      "\n",
      "           0       0.92      0.96      0.94       982\n",
      "           1       0.76      0.62      0.68       210\n",
      "\n",
      "    accuracy                           0.90      1192\n",
      "   macro avg       0.84      0.79      0.81      1192\n",
      "weighted avg       0.89      0.90      0.89      1192\n",
      "\n"
     ]
    }
   ],
   "source": [
    "from sklearn.metrics import accuracy_score, classification_report\n",
    "\n",
    "best_params = grid_search.best_params_\n",
    "best_model = grid_search.best_estimator_\n",
    "\n",
    "\n",
    "# Predict using the best model\n",
    "y_pred = best_model.predict(val_t)\n",
    "\n",
    "# Calculate accuracy and print classification report\n",
    "precision = precision_score(y_val, y_pred)\n",
    "print(\"Precision:\", precision)\n",
    "print(\"Best hyperparameters:\", best_params)\n",
    "print(\"Classification Report:\\n\", classification_report(y_val, y_pred))\n"
   ]
  },
  {
   "cell_type": "code",
   "execution_count": 7,
   "metadata": {},
   "outputs": [
    {
     "name": "stdout",
     "output_type": "stream",
     "text": [
      "Accuracy: 0.8951342281879194\n",
      "Best hyperparameters: {'C': 0.615848211066026, 'penalty': 'l1', 'solver': 'saga'}\n",
      "Classification Report:\n",
      "               precision    recall  f1-score   support\n",
      "\n",
      "           0       0.77      0.84      0.80       931\n",
      "           1       0.16      0.11      0.13       261\n",
      "\n",
      "    accuracy                           0.68      1192\n",
      "   macro avg       0.47      0.47      0.47      1192\n",
      "weighted avg       0.64      0.68      0.66      1192\n",
      "\n"
     ]
    }
   ],
   "source": [
    "from sklearn.metrics import accuracy_score, classification_report\n",
    "\n",
    "best_params = grid_search.best_params_\n",
    "best_model = grid_search.best_estimator_\n",
    "\n",
    "\n",
    "# Predict using the best model\n",
    "y_pred = best_model.predict(val_t)\n",
    "\n",
    "# Calculate accuracy and print classification report\n",
    "accuracy = accuracy_score(y_val, y_pred)\n",
    "print(\"Accuracy:\", accuracy)\n",
    "print(\"Best hyperparameters:\", best_params)\n",
    "print(\"Classification Report:\\n\", classification_report(y_test, y_pred))\n"
   ]
  },
  {
   "cell_type": "code",
   "execution_count": 8,
   "metadata": {},
   "outputs": [],
   "source": [
    "hiperparametros = {'penalty':'l1',\n",
    "                   'tol':0.0001,\n",
    "                   'C':0.0048, \n",
    "                   'random_state':59, \n",
    "                   'solver':'liblinear',\n",
    "                   'max_iter':10000,\n",
    "                   'class_weight':weight}"
   ]
  }
 ],
 "metadata": {
  "kernelspec": {
   "display_name": "trabalho-apc-asn",
   "language": "python",
   "name": "python3"
  },
  "language_info": {
   "codemirror_mode": {
    "name": "ipython",
    "version": 3
   },
   "file_extension": ".py",
   "mimetype": "text/x-python",
   "name": "python",
   "nbconvert_exporter": "python",
   "pygments_lexer": "ipython3",
   "version": "3.11.5"
  },
  "orig_nbformat": 4
 },
 "nbformat": 4,
 "nbformat_minor": 2
}
