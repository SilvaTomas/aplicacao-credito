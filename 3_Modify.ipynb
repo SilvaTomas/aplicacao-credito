{
 "cells": [
  {
   "cell_type": "markdown",
   "metadata": {},
   "source": [
    "## Modify"
   ]
  },
  {
   "cell_type": "code",
   "execution_count": 1,
   "metadata": {},
   "outputs": [],
   "source": [
    "import pandas as pd\n",
    "import numpy as np\n",
    "\n",
    "from feature_engine.imputation import EndTailImputer, AddMissingIndicator, CategoricalImputer\n",
    "from feature_engine.selection import DropFeatures\n",
    "from feature_engine.wrappers import SklearnTransformerWrapper\n",
    "from feature_engine.discretisation import DecisionTreeDiscretiser\n",
    "from feature_engine.encoding import OneHotEncoder\n",
    "\n",
    "from sklearn.base import BaseEstimator, TransformerMixin\n",
    "from sklearn.experimental import enable_iterative_imputer\n",
    "from sklearn.impute import IterativeImputer\n",
    "from sklearn.tree import DecisionTreeRegressor\n",
    "from sklearn.pipeline import Pipeline\n"
   ]
  },
  {
   "cell_type": "code",
   "execution_count": 2,
   "metadata": {},
   "outputs": [],
   "source": [
    "file_path_1 = '/home/tomas/Documentos/gh-repos/Trabalho-APC-ASN/X_train.csv'\n",
    "X_train = pd.read_csv(file_path_1)\n",
    "\n",
    "file_path_2 = '/home/tomas/Documentos/gh-repos/Trabalho-APC-ASN/y_train.csv'\n",
    "y_train = pd.read_csv(file_path_2)\n",
    "\n",
    "file_path_3 ='/home/tomas/Documentos/gh-repos/Trabalho-APC-ASN/X_val.csv'\n",
    "X_val = pd.read_csv(file_path_3)\n",
    "\n",
    "file_path_4 = '/home/tomas/Documentos/gh-repos/Trabalho-APC-ASN/y_val.csv'\n",
    "y_val = pd.read_csv(file_path_4)\n",
    "\n",
    "file_path_5 = '/home/tomas/Documentos/gh-repos/Trabalho-APC-ASN/X_test.csv'\n",
    "X_test = pd.read_csv(file_path_5)\n",
    "\n",
    "file_path_6 = '/home/tomas/Documentos/gh-repos/Trabalho-APC-ASN/y_test.csv'\n",
    "y_test = pd.read_csv(file_path_6)"
   ]
  },
  {
   "cell_type": "code",
   "execution_count": 3,
   "metadata": {},
   "outputs": [],
   "source": [
    "class DataTypeTransformer(BaseEstimator, TransformerMixin):\n",
    "    def __init__(self, columns_to_convert=None, dtype='object'):\n",
    "        self.columns_to_convert = columns_to_convert\n",
    "        self.dtype = dtype\n",
    "    \n",
    "    def fit(self, X, y=None):\n",
    "        return self\n",
    "    \n",
    "    def transform(self, X):\n",
    "        if self.columns_to_convert is None:\n",
    "            columns = X.columns\n",
    "        else:\n",
    "            columns = self.columns_to_convert\n",
    "        \n",
    "        for col in columns:\n",
    "            X[col] = X[col].astype(self.dtype)\n",
    "        \n",
    "        return X\n"
   ]
  },
  {
   "cell_type": "code",
   "execution_count": 4,
   "metadata": {},
   "outputs": [
    {
     "name": "stderr",
     "output_type": "stream",
     "text": [
      "/home/tomas/anaconda3/envs/apc-asn/lib/python3.11/site-packages/sklearn/impute/_iterative.py:785: ConvergenceWarning: [IterativeImputer] Early stopping criterion not reached.\n",
      "  warnings.warn(\n"
     ]
    },
    {
     "data": {
      "text/html": [
       "<style>#sk-container-id-1 {color: black;background-color: white;}#sk-container-id-1 pre{padding: 0;}#sk-container-id-1 div.sk-toggleable {background-color: white;}#sk-container-id-1 label.sk-toggleable__label {cursor: pointer;display: block;width: 100%;margin-bottom: 0;padding: 0.3em;box-sizing: border-box;text-align: center;}#sk-container-id-1 label.sk-toggleable__label-arrow:before {content: \"▸\";float: left;margin-right: 0.25em;color: #696969;}#sk-container-id-1 label.sk-toggleable__label-arrow:hover:before {color: black;}#sk-container-id-1 div.sk-estimator:hover label.sk-toggleable__label-arrow:before {color: black;}#sk-container-id-1 div.sk-toggleable__content {max-height: 0;max-width: 0;overflow: hidden;text-align: left;background-color: #f0f8ff;}#sk-container-id-1 div.sk-toggleable__content pre {margin: 0.2em;color: black;border-radius: 0.25em;background-color: #f0f8ff;}#sk-container-id-1 input.sk-toggleable__control:checked~div.sk-toggleable__content {max-height: 200px;max-width: 100%;overflow: auto;}#sk-container-id-1 input.sk-toggleable__control:checked~label.sk-toggleable__label-arrow:before {content: \"▾\";}#sk-container-id-1 div.sk-estimator input.sk-toggleable__control:checked~label.sk-toggleable__label {background-color: #d4ebff;}#sk-container-id-1 div.sk-label input.sk-toggleable__control:checked~label.sk-toggleable__label {background-color: #d4ebff;}#sk-container-id-1 input.sk-hidden--visually {border: 0;clip: rect(1px 1px 1px 1px);clip: rect(1px, 1px, 1px, 1px);height: 1px;margin: -1px;overflow: hidden;padding: 0;position: absolute;width: 1px;}#sk-container-id-1 div.sk-estimator {font-family: monospace;background-color: #f0f8ff;border: 1px dotted black;border-radius: 0.25em;box-sizing: border-box;margin-bottom: 0.5em;}#sk-container-id-1 div.sk-estimator:hover {background-color: #d4ebff;}#sk-container-id-1 div.sk-parallel-item::after {content: \"\";width: 100%;border-bottom: 1px solid gray;flex-grow: 1;}#sk-container-id-1 div.sk-label:hover label.sk-toggleable__label {background-color: #d4ebff;}#sk-container-id-1 div.sk-serial::before {content: \"\";position: absolute;border-left: 1px solid gray;box-sizing: border-box;top: 0;bottom: 0;left: 50%;z-index: 0;}#sk-container-id-1 div.sk-serial {display: flex;flex-direction: column;align-items: center;background-color: white;padding-right: 0.2em;padding-left: 0.2em;position: relative;}#sk-container-id-1 div.sk-item {position: relative;z-index: 1;}#sk-container-id-1 div.sk-parallel {display: flex;align-items: stretch;justify-content: center;background-color: white;position: relative;}#sk-container-id-1 div.sk-item::before, #sk-container-id-1 div.sk-parallel-item::before {content: \"\";position: absolute;border-left: 1px solid gray;box-sizing: border-box;top: 0;bottom: 0;left: 50%;z-index: -1;}#sk-container-id-1 div.sk-parallel-item {display: flex;flex-direction: column;z-index: 1;position: relative;background-color: white;}#sk-container-id-1 div.sk-parallel-item:first-child::after {align-self: flex-end;width: 50%;}#sk-container-id-1 div.sk-parallel-item:last-child::after {align-self: flex-start;width: 50%;}#sk-container-id-1 div.sk-parallel-item:only-child::after {width: 0;}#sk-container-id-1 div.sk-dashed-wrapped {border: 1px dashed gray;margin: 0 0.4em 0.5em 0.4em;box-sizing: border-box;padding-bottom: 0.4em;background-color: white;}#sk-container-id-1 div.sk-label label {font-family: monospace;font-weight: bold;display: inline-block;line-height: 1.2em;}#sk-container-id-1 div.sk-label-container {text-align: center;}#sk-container-id-1 div.sk-container {/* jupyter's `normalize.less` sets `[hidden] { display: none; }` but bootstrap.min.css set `[hidden] { display: none !important; }` so we also need the `!important` here to be able to override the default hidden behavior on the sphinx rendered scikit-learn.org. See: https://github.com/scikit-learn/scikit-learn/issues/21755 */display: inline-block !important;position: relative;}#sk-container-id-1 div.sk-text-repr-fallback {display: none;}</style><div id=\"sk-container-id-1\" class=\"sk-top-container\"><div class=\"sk-text-repr-fallback\"><pre>Pipeline(steps=[(&#x27;FeaturesDroper&#x27;,\n",
       "                 DropFeatures(features_to_drop=[&#x27;REASON&#x27;, &#x27;JOB&#x27;])),\n",
       "                (&#x27;EndTailImputer&#x27;,\n",
       "                 EndTailImputer(variables=[&#x27;VALUE&#x27;, &#x27;DEBTINC&#x27;])),\n",
       "                (&#x27;AddMissingIndicator&#x27;,\n",
       "                 AddMissingIndicator(variables=[&#x27;LOAN&#x27;, &#x27;MORTDUE&#x27;, &#x27;VALUE&#x27;,\n",
       "                                                &#x27;YOJ&#x27;, &#x27;DEROG&#x27;, &#x27;DELINQ&#x27;,\n",
       "                                                &#x27;CLAGE&#x27;, &#x27;NINQ&#x27;, &#x27;CLNO&#x27;,\n",
       "                                                &#x27;DEBTINC&#x27;])),\n",
       "                (&#x27;ImputerNonLin&#x27;,\n",
       "                 SklearnTransformerWrapper(transformer=IterativeI...\n",
       "                                         variables=[&#x27;LOAN&#x27;, &#x27;MORTDUE&#x27;, &#x27;VALUE&#x27;,\n",
       "                                                    &#x27;YOJ&#x27;, &#x27;DEROG&#x27;, &#x27;DELINQ&#x27;,\n",
       "                                                    &#x27;CLAGE&#x27;, &#x27;NINQ&#x27;, &#x27;CLNO&#x27;,\n",
       "                                                    &#x27;DEBTINC&#x27;])),\n",
       "                (&#x27;DTypeTransformer&#x27;,\n",
       "                 DataTypeTransformer(columns_to_convert=[&#x27;LOAN&#x27;, &#x27;MORTDUE&#x27;,\n",
       "                                                         &#x27;VALUE&#x27;, &#x27;YOJ&#x27;,\n",
       "                                                         &#x27;DEROG&#x27;, &#x27;DELINQ&#x27;,\n",
       "                                                         &#x27;CLAGE&#x27;, &#x27;NINQ&#x27;,\n",
       "                                                         &#x27;CLNO&#x27;, &#x27;DEBTINC&#x27;])),\n",
       "                (&#x27;OneHotEncoder&#x27;,\n",
       "                 OneHotEncoder(drop_last=True,\n",
       "                               variables=[&#x27;LOAN&#x27;, &#x27;MORTDUE&#x27;, &#x27;VALUE&#x27;, &#x27;YOJ&#x27;,\n",
       "                                          &#x27;DEROG&#x27;, &#x27;DELINQ&#x27;, &#x27;CLAGE&#x27;, &#x27;NINQ&#x27;,\n",
       "                                          &#x27;CLNO&#x27;, &#x27;DEBTINC&#x27;]))])</pre><b>In a Jupyter environment, please rerun this cell to show the HTML representation or trust the notebook. <br />On GitHub, the HTML representation is unable to render, please try loading this page with nbviewer.org.</b></div><div class=\"sk-container\" hidden><div class=\"sk-item sk-dashed-wrapped\"><div class=\"sk-label-container\"><div class=\"sk-label sk-toggleable\"><input class=\"sk-toggleable__control sk-hidden--visually\" id=\"sk-estimator-id-1\" type=\"checkbox\" ><label for=\"sk-estimator-id-1\" class=\"sk-toggleable__label sk-toggleable__label-arrow\">Pipeline</label><div class=\"sk-toggleable__content\"><pre>Pipeline(steps=[(&#x27;FeaturesDroper&#x27;,\n",
       "                 DropFeatures(features_to_drop=[&#x27;REASON&#x27;, &#x27;JOB&#x27;])),\n",
       "                (&#x27;EndTailImputer&#x27;,\n",
       "                 EndTailImputer(variables=[&#x27;VALUE&#x27;, &#x27;DEBTINC&#x27;])),\n",
       "                (&#x27;AddMissingIndicator&#x27;,\n",
       "                 AddMissingIndicator(variables=[&#x27;LOAN&#x27;, &#x27;MORTDUE&#x27;, &#x27;VALUE&#x27;,\n",
       "                                                &#x27;YOJ&#x27;, &#x27;DEROG&#x27;, &#x27;DELINQ&#x27;,\n",
       "                                                &#x27;CLAGE&#x27;, &#x27;NINQ&#x27;, &#x27;CLNO&#x27;,\n",
       "                                                &#x27;DEBTINC&#x27;])),\n",
       "                (&#x27;ImputerNonLin&#x27;,\n",
       "                 SklearnTransformerWrapper(transformer=IterativeI...\n",
       "                                         variables=[&#x27;LOAN&#x27;, &#x27;MORTDUE&#x27;, &#x27;VALUE&#x27;,\n",
       "                                                    &#x27;YOJ&#x27;, &#x27;DEROG&#x27;, &#x27;DELINQ&#x27;,\n",
       "                                                    &#x27;CLAGE&#x27;, &#x27;NINQ&#x27;, &#x27;CLNO&#x27;,\n",
       "                                                    &#x27;DEBTINC&#x27;])),\n",
       "                (&#x27;DTypeTransformer&#x27;,\n",
       "                 DataTypeTransformer(columns_to_convert=[&#x27;LOAN&#x27;, &#x27;MORTDUE&#x27;,\n",
       "                                                         &#x27;VALUE&#x27;, &#x27;YOJ&#x27;,\n",
       "                                                         &#x27;DEROG&#x27;, &#x27;DELINQ&#x27;,\n",
       "                                                         &#x27;CLAGE&#x27;, &#x27;NINQ&#x27;,\n",
       "                                                         &#x27;CLNO&#x27;, &#x27;DEBTINC&#x27;])),\n",
       "                (&#x27;OneHotEncoder&#x27;,\n",
       "                 OneHotEncoder(drop_last=True,\n",
       "                               variables=[&#x27;LOAN&#x27;, &#x27;MORTDUE&#x27;, &#x27;VALUE&#x27;, &#x27;YOJ&#x27;,\n",
       "                                          &#x27;DEROG&#x27;, &#x27;DELINQ&#x27;, &#x27;CLAGE&#x27;, &#x27;NINQ&#x27;,\n",
       "                                          &#x27;CLNO&#x27;, &#x27;DEBTINC&#x27;]))])</pre></div></div></div><div class=\"sk-serial\"><div class=\"sk-item\"><div class=\"sk-estimator sk-toggleable\"><input class=\"sk-toggleable__control sk-hidden--visually\" id=\"sk-estimator-id-2\" type=\"checkbox\" ><label for=\"sk-estimator-id-2\" class=\"sk-toggleable__label sk-toggleable__label-arrow\">DropFeatures</label><div class=\"sk-toggleable__content\"><pre>DropFeatures(features_to_drop=[&#x27;REASON&#x27;, &#x27;JOB&#x27;])</pre></div></div></div><div class=\"sk-item\"><div class=\"sk-estimator sk-toggleable\"><input class=\"sk-toggleable__control sk-hidden--visually\" id=\"sk-estimator-id-3\" type=\"checkbox\" ><label for=\"sk-estimator-id-3\" class=\"sk-toggleable__label sk-toggleable__label-arrow\">EndTailImputer</label><div class=\"sk-toggleable__content\"><pre>EndTailImputer(variables=[&#x27;VALUE&#x27;, &#x27;DEBTINC&#x27;])</pre></div></div></div><div class=\"sk-item\"><div class=\"sk-estimator sk-toggleable\"><input class=\"sk-toggleable__control sk-hidden--visually\" id=\"sk-estimator-id-4\" type=\"checkbox\" ><label for=\"sk-estimator-id-4\" class=\"sk-toggleable__label sk-toggleable__label-arrow\">AddMissingIndicator</label><div class=\"sk-toggleable__content\"><pre>AddMissingIndicator(variables=[&#x27;LOAN&#x27;, &#x27;MORTDUE&#x27;, &#x27;VALUE&#x27;, &#x27;YOJ&#x27;, &#x27;DEROG&#x27;,\n",
       "                               &#x27;DELINQ&#x27;, &#x27;CLAGE&#x27;, &#x27;NINQ&#x27;, &#x27;CLNO&#x27;, &#x27;DEBTINC&#x27;])</pre></div></div></div><div class=\"sk-item sk-dashed-wrapped\"><div class=\"sk-label-container\"><div class=\"sk-label sk-toggleable\"><input class=\"sk-toggleable__control sk-hidden--visually\" id=\"sk-estimator-id-5\" type=\"checkbox\" ><label for=\"sk-estimator-id-5\" class=\"sk-toggleable__label sk-toggleable__label-arrow\">ImputerNonLin: SklearnTransformerWrapper</label><div class=\"sk-toggleable__content\"><pre>SklearnTransformerWrapper(transformer=IterativeImputer(estimator=DecisionTreeRegressor(max_features=&#x27;sqrt&#x27;,\n",
       "                                                                                       random_state=59),\n",
       "                                                       max_iter=1000,\n",
       "                                                       random_state=59),\n",
       "                          variables=[&#x27;LOAN&#x27;, &#x27;MORTDUE&#x27;, &#x27;YOJ&#x27;, &#x27;DEROG&#x27;,\n",
       "                                     &#x27;DELINQ&#x27;, &#x27;CLAGE&#x27;, &#x27;NINQ&#x27;, &#x27;CLNO&#x27;])</pre></div></div></div><div class=\"sk-parallel\"><div class=\"sk-parallel-item\"><div class=\"sk-item\"><div class=\"sk-label-container\"><div class=\"sk-label sk-toggleable\"><input class=\"sk-toggleable__control sk-hidden--visually\" id=\"sk-estimator-id-6\" type=\"checkbox\" ><label for=\"sk-estimator-id-6\" class=\"sk-toggleable__label sk-toggleable__label-arrow\">transformer: IterativeImputer</label><div class=\"sk-toggleable__content\"><pre>IterativeImputer(estimator=DecisionTreeRegressor(max_features=&#x27;sqrt&#x27;,\n",
       "                                                 random_state=59),\n",
       "                 max_iter=1000, random_state=59)</pre></div></div></div><div class=\"sk-serial\"><div class=\"sk-item sk-dashed-wrapped\"><div class=\"sk-parallel\"><div class=\"sk-parallel-item\"><div class=\"sk-item\"><div class=\"sk-label-container\"><div class=\"sk-label sk-toggleable\"><input class=\"sk-toggleable__control sk-hidden--visually\" id=\"sk-estimator-id-7\" type=\"checkbox\" ><label for=\"sk-estimator-id-7\" class=\"sk-toggleable__label sk-toggleable__label-arrow\">estimator: DecisionTreeRegressor</label><div class=\"sk-toggleable__content\"><pre>DecisionTreeRegressor(max_features=&#x27;sqrt&#x27;, random_state=59)</pre></div></div></div><div class=\"sk-serial\"><div class=\"sk-item\"><div class=\"sk-estimator sk-toggleable\"><input class=\"sk-toggleable__control sk-hidden--visually\" id=\"sk-estimator-id-8\" type=\"checkbox\" ><label for=\"sk-estimator-id-8\" class=\"sk-toggleable__label sk-toggleable__label-arrow\">DecisionTreeRegressor</label><div class=\"sk-toggleable__content\"><pre>DecisionTreeRegressor(max_features=&#x27;sqrt&#x27;, random_state=59)</pre></div></div></div></div></div></div></div></div></div></div></div></div></div><div class=\"sk-item\"><div class=\"sk-estimator sk-toggleable\"><input class=\"sk-toggleable__control sk-hidden--visually\" id=\"sk-estimator-id-9\" type=\"checkbox\" ><label for=\"sk-estimator-id-9\" class=\"sk-toggleable__label sk-toggleable__label-arrow\">DecisionTreeDiscretiser</label><div class=\"sk-toggleable__content\"><pre>DecisionTreeDiscretiser(cv=5, param_grid={&#x27;min_samples_leaf&#x27;: [100, 200]},\n",
       "                        regression=False, scoring=&#x27;accuracy&#x27;,\n",
       "                        variables=[&#x27;LOAN&#x27;, &#x27;MORTDUE&#x27;, &#x27;VALUE&#x27;, &#x27;YOJ&#x27;, &#x27;DEROG&#x27;,\n",
       "                                   &#x27;DELINQ&#x27;, &#x27;CLAGE&#x27;, &#x27;NINQ&#x27;, &#x27;CLNO&#x27;,\n",
       "                                   &#x27;DEBTINC&#x27;])</pre></div></div></div><div class=\"sk-item\"><div class=\"sk-estimator sk-toggleable\"><input class=\"sk-toggleable__control sk-hidden--visually\" id=\"sk-estimator-id-10\" type=\"checkbox\" ><label for=\"sk-estimator-id-10\" class=\"sk-toggleable__label sk-toggleable__label-arrow\">DataTypeTransformer</label><div class=\"sk-toggleable__content\"><pre>DataTypeTransformer(columns_to_convert=[&#x27;LOAN&#x27;, &#x27;MORTDUE&#x27;, &#x27;VALUE&#x27;, &#x27;YOJ&#x27;,\n",
       "                                        &#x27;DEROG&#x27;, &#x27;DELINQ&#x27;, &#x27;CLAGE&#x27;, &#x27;NINQ&#x27;,\n",
       "                                        &#x27;CLNO&#x27;, &#x27;DEBTINC&#x27;])</pre></div></div></div><div class=\"sk-item\"><div class=\"sk-estimator sk-toggleable\"><input class=\"sk-toggleable__control sk-hidden--visually\" id=\"sk-estimator-id-11\" type=\"checkbox\" ><label for=\"sk-estimator-id-11\" class=\"sk-toggleable__label sk-toggleable__label-arrow\">OneHotEncoder</label><div class=\"sk-toggleable__content\"><pre>OneHotEncoder(drop_last=True,\n",
       "              variables=[&#x27;LOAN&#x27;, &#x27;MORTDUE&#x27;, &#x27;VALUE&#x27;, &#x27;YOJ&#x27;, &#x27;DEROG&#x27;, &#x27;DELINQ&#x27;,\n",
       "                         &#x27;CLAGE&#x27;, &#x27;NINQ&#x27;, &#x27;CLNO&#x27;, &#x27;DEBTINC&#x27;])</pre></div></div></div></div></div></div></div>"
      ],
      "text/plain": [
       "Pipeline(steps=[('FeaturesDroper',\n",
       "                 DropFeatures(features_to_drop=['REASON', 'JOB'])),\n",
       "                ('EndTailImputer',\n",
       "                 EndTailImputer(variables=['VALUE', 'DEBTINC'])),\n",
       "                ('AddMissingIndicator',\n",
       "                 AddMissingIndicator(variables=['LOAN', 'MORTDUE', 'VALUE',\n",
       "                                                'YOJ', 'DEROG', 'DELINQ',\n",
       "                                                'CLAGE', 'NINQ', 'CLNO',\n",
       "                                                'DEBTINC'])),\n",
       "                ('ImputerNonLin',\n",
       "                 SklearnTransformerWrapper(transformer=IterativeI...\n",
       "                                         variables=['LOAN', 'MORTDUE', 'VALUE',\n",
       "                                                    'YOJ', 'DEROG', 'DELINQ',\n",
       "                                                    'CLAGE', 'NINQ', 'CLNO',\n",
       "                                                    'DEBTINC'])),\n",
       "                ('DTypeTransformer',\n",
       "                 DataTypeTransformer(columns_to_convert=['LOAN', 'MORTDUE',\n",
       "                                                         'VALUE', 'YOJ',\n",
       "                                                         'DEROG', 'DELINQ',\n",
       "                                                         'CLAGE', 'NINQ',\n",
       "                                                         'CLNO', 'DEBTINC'])),\n",
       "                ('OneHotEncoder',\n",
       "                 OneHotEncoder(drop_last=True,\n",
       "                               variables=['LOAN', 'MORTDUE', 'VALUE', 'YOJ',\n",
       "                                          'DEROG', 'DELINQ', 'CLAGE', 'NINQ',\n",
       "                                          'CLNO', 'DEBTINC']))])"
      ]
     },
     "execution_count": 4,
     "metadata": {},
     "output_type": "execute_result"
    }
   ],
   "source": [
    "num_var = X_train.select_dtypes(include=np.number).columns.tolist()\n",
    "\n",
    "\n",
    "cat = ['REASON', 'JOB']\n",
    "Features_Droper = DropFeatures(features_to_drop = cat,)\n",
    "#\n",
    "#\n",
    "#\n",
    "#\n",
    "End_Tail_Imputer = EndTailImputer(imputation_method = 'gaussian', \n",
    "                                  tail = 'right', \n",
    "                                  fold = 3, \n",
    "                                  variables = ['VALUE', 'DEBTINC'])\n",
    "#\n",
    "#\n",
    "#\n",
    "#\n",
    "variables = ['LOAN', 'MORTDUE', 'YOJ', \n",
    "             'DEROG', 'DELINQ', 'CLAGE', \n",
    "             'NINQ', 'CLNO']\n",
    "#\n",
    "Add_Missing_Indicator = AddMissingIndicator(missing_only = True,\n",
    "                                            variables = num_var)\n",
    "#\n",
    "#\n",
    "#\n",
    "#\n",
    "_nonLin = IterativeImputer(estimator=DecisionTreeRegressor(max_features='sqrt', random_state=59),\n",
    "                           max_iter = 1000,\n",
    "                           random_state = 59)\n",
    "#\n",
    "imputer_nonLin = SklearnTransformerWrapper(transformer = _nonLin, variables = variables)\n",
    "#\n",
    "#\n",
    "#\n",
    "#\n",
    "treeDisc = DecisionTreeDiscretiser(cv = 5,\n",
    "                                   scoring = 'accuracy',\n",
    "                                   variables = num_var,\n",
    "                                   regression = False,\n",
    "                                   param_grid = {'min_samples_leaf': [100, 200]}\n",
    "                                   )\n",
    "#\n",
    "#\n",
    "#\n",
    "#\n",
    "dtype_transformer = DataTypeTransformer(columns_to_convert = num_var, \n",
    "                                        dtype ='object')\n",
    "#\n",
    "#\n",
    "#\n",
    "#\n",
    "cols_one_hot = ['LOAN', 'MORTDUE', 'VALUE', 'YOJ',\n",
    "                'DEROG', 'DELINQ', 'CLAGE',\n",
    "                'NINQ', 'CLNO', 'DEBTINC',]\n",
    "\n",
    "One_Hot_Encoder = OneHotEncoder(drop_last = True,\n",
    "                                variables = cols_one_hot,)\n",
    "#\n",
    "#\n",
    "#\n",
    "#\n",
    "pipeline = Pipeline([('FeaturesDroper', Features_Droper),\n",
    "                     ('EndTailImputer', End_Tail_Imputer),\n",
    "                     ('AddMissingIndicator', Add_Missing_Indicator),\n",
    "                     ('ImputerNonLin', imputer_nonLin),\n",
    "                     ('TreeDiscretiser', treeDisc),\n",
    "                     ('DTypeTransformer', dtype_transformer),\n",
    "                     ('OneHotEncoder', One_Hot_Encoder),\n",
    "                    ])\n",
    "\n",
    "\n",
    "pipeline.fit(X_train, y_train)"
   ]
  },
  {
   "cell_type": "code",
   "execution_count": 5,
   "metadata": {},
   "outputs": [],
   "source": [
    "train_t = pipeline.transform(X_train)\n",
    "val_t = pipeline.transform(X_val)\n",
    "test_t = pipeline.transform(X_test)"
   ]
  },
  {
   "cell_type": "code",
   "execution_count": 6,
   "metadata": {},
   "outputs": [
    {
     "data": {
      "text/plain": [
       "(3576, 174)"
      ]
     },
     "execution_count": 6,
     "metadata": {},
     "output_type": "execute_result"
    }
   ],
   "source": [
    "train_t.shape"
   ]
  },
  {
   "cell_type": "code",
   "execution_count": 7,
   "metadata": {},
   "outputs": [
    {
     "name": "stdout",
     "output_type": "stream",
     "text": [
      "0\n",
      "0\n",
      "0\n"
     ]
    }
   ],
   "source": [
    "print(train_t.isna().sum().sum())\n",
    "print(val_t.isna().sum().sum())\n",
    "print(test_t.isna().sum().sum())"
   ]
  },
  {
   "cell_type": "code",
   "execution_count": null,
   "metadata": {},
   "outputs": [],
   "source": [
    "file_path_1 = '/home/tomas/Documentos/gh-repos/Trabalho-APC-ASN/X_train_M.csv'\n",
    "train_t.to_csv(file_path_1, index_label=False)\n",
    "\n",
    "file_path_2 ='/home/tomas/Documentos/gh-repos/Trabalho-APC-ASN/X_val_M.csv'\n",
    "val_t.to_csv(file_path_2, index_label=False)\n",
    "\n",
    "file_path_3 = '/home/tomas/Documentos/gh-repos/Trabalho-APC-ASN/X_test_M.csv'\n",
    "test_t.to_csv(file_path_3, index_label=False)"
   ]
  }
 ],
 "metadata": {
  "kernelspec": {
   "display_name": "trabalho-apc-asn",
   "language": "python",
   "name": "python3"
  },
  "language_info": {
   "codemirror_mode": {
    "name": "ipython",
    "version": 3
   },
   "file_extension": ".py",
   "mimetype": "text/x-python",
   "name": "python",
   "nbconvert_exporter": "python",
   "pygments_lexer": "ipython3",
   "version": "3.11.5"
  },
  "orig_nbformat": 4
 },
 "nbformat": 4,
 "nbformat_minor": 2
}
